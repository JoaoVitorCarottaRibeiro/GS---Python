{
 "cells": [
  {
   "cell_type": "code",
   "execution_count": 5,
   "metadata": {},
   "outputs": [
    {
     "name": "stdout",
     "output_type": "stream",
     "text": [
      "O valor do volume em cm³ é 6\n"
     ]
    }
   ],
   "source": [
    "# Calcular volume do cesto a ser utilizado nas bocas de lobo com base nos seus diversos tamanhos. \n",
    "\n",
    "#Para isso, usamos uma função que possui 3 parâmetros, sendo eles, altura, largura e comprimento. Com base no que o usuário inserir nos respectivos parâmetros, a função irá calcular o volume em centímetros cúbicos.\n",
    "\n",
    "def calcularVolume(altura, largura, comprimento):\n",
    "    resultado = altura * largura * comprimento\n",
    "    return resultado\n",
    "\n",
    "print('O valor do volume em cm³ é' , calcularVolume(1, 3, 2))"
   ]
  },
  {
   "cell_type": "code",
   "execution_count": 33,
   "metadata": {},
   "outputs": [
    {
     "name": "stdout",
     "output_type": "stream",
     "text": [
      "Não é possível realizar a conta, verifique os números novamente!\n"
     ]
    }
   ],
   "source": [
    "# Calcular a quantidade de microplásticos nos filtros instalados nos canais pluviais. Para realizar esse cálculo precisamos ter ciência do processo de coleta da amostra, onde deve haver remoção do material filtrado, para uma possível análise. Logo depois, é necessário fazer uma filtragem para isolar as partículas sólidas da líquidas, retirando uma parte dos microplásticos não sólidos. Em seguida basta pegar a quantidade de água (em litros) e a quantidade de partículas de microplásticos. Com isso, temos a densidade de microplásticos por litro. \n",
    "\n",
    "#Para isso, usamos duas entradas para que o usuário coloque os valores da quantidade de microplásticos e da quantidade filtrada respectivamente. Se a quantidade filtrada for maior que a quantidade de microplásticos, não é possível realizar a conta, porém, se for menor, a conta será realizada com sucesso.\n",
    "\n",
    "quantidadeMicroplasticos = int(input('Qual a quantidade de microplásticos coletado?'))\n",
    "quantidadeFiltrada = int(input('Qual a quantidade de microplasticos retirada nessa filtragem?'))\n",
    "    \n",
    "if quantidadeMicroplasticos < quantidadeFiltrada:\n",
    "    print('Não é possível realizar a conta, verifique os números novamente!')\n",
    "\n",
    "elif quantidadeMicroplasticos == quantidadeFiltrada:\n",
    "    print('A quantidade de microplásticos é igual à quantidade filtrada. Nada a ser calculado.')\n",
    "    \n",
    "else:\n",
    "    quantidadeAgua = float(input('Qual a quantidade de água em Litros?'))\n",
    "    resultado = (quantidadeMicroplasticos - quantidadeFiltrada)/quantidadeAgua\n",
    "    print('A conta foi realizada com sucesso! Para mais contas, basta inserir os valores!')\n",
    "    print(f'A quantidade de microplástico por litro é de {resultado}.')    \n",
    " \n"
   ]
  },
  {
   "cell_type": "code",
   "execution_count": 32,
   "metadata": {},
   "outputs": [
    {
     "name": "stdout",
     "output_type": "stream",
     "text": [
      "O lucro é de R$ 1200000\n"
     ]
    }
   ],
   "source": [
    "# Cálculo do lucro com base na quantidade de lixo queimado para geração de energia. Esse cálculo exige alguns requisitos, como a quantidade de lixo, a energia pela tonelada de lixo, o preço da energia a ser vendida, o custo do transporte do lixo, o custo de uma possiível manutenção e o custo do tratamento do lixo. \n",
    "\n",
    "# Para isso, criamos uma def com alguns parâmetros citamos acima para fazer as respectivas contas. Obtemos a energia total, logo em seguida os custos totais, depois subtraímos o valor total pelos custos, obtendo assim o lucro.\n",
    "\n",
    "def calcularLucro(qtdLixo, energiaPorTonelada, precoDaEnergia, custoDotransporte, custoDaManutencao, custoDoTratamento):\n",
    "    \n",
    "    energiaTotal = qtdLixo * energiaPorTonelada\n",
    "    valorTotal = energiaTotal * precoDaEnergia\n",
    "    custosTotais = custoDotransporte + custoDaManutencao + custoDoTratamento\n",
    "    lucro = valorTotal - custosTotais\n",
    "\n",
    "    return lucro\n",
    "\n",
    "lucro = calcularLucro(100, 30, 500, 100000, 100000, 100000)\n",
    "print('O lucro é de R$' , lucro)"
   ]
  },
  {
   "cell_type": "code",
   "execution_count": 41,
   "metadata": {},
   "outputs": [
    {
     "name": "stdout",
     "output_type": "stream",
     "text": [
      "A média de comentários semanais é de 40.0.\n"
     ]
    }
   ],
   "source": [
    "# Calcular a quantidade de comentários semanais que recebemos em nosso site. Para termos uma noção de como está indo o tráfego de pessoas em nosso site, decidimos criar uma função em python para pegar a média semanal da nossa seção de comentários.media\n",
    "\n",
    "# Para isso criamos uma função que faz esse cálculo. Nela temos uma lista vazia que vai receber os 7 inputs que enquanto ele for menor 7 ele gera um input (onde cada um equivale a um dia da semana). Somamos o número de comentários de cada dia e dividimos por 7, que dará a média desejada.\n",
    "\n",
    "def qtdcomentarios(x):\n",
    "    comentarios = []\n",
    "    for dia in range(1, 8): \n",
    "        quantidade = -1\n",
    "        while quantidade < 0: \n",
    "            quantidade = int(input(f\"Digite a quantidade de comentários para o dia {dia}: \"))\n",
    "        comentarios.append(quantidade)\n",
    "\n",
    "    media = sum(comentarios) / 7\n",
    "    return media\n",
    "\n",
    "media = qtdcomentarios('comentarios')\n",
    "\n",
    "print(f'A média de comentários semanais é de {media}.')\n"
   ]
  },
  {
   "cell_type": "code",
   "execution_count": null,
   "metadata": {},
   "outputs": [],
   "source": [
    "pip install ipywidgets"
   ]
  },
  {
   "cell_type": "code",
   "execution_count": null,
   "metadata": {},
   "outputs": [],
   "source": [
    "# Motivação:\n",
    "# O monitoramento de sistemas de esgoto é essencial para garantir o fluxo adequado de água e prevenir inundações e obstruções que podem causar danos ambientais e à infraestrutura. O controle eficiente dos volumes de entrada e saída de água em sistemas de esgoto é crucial para a manutenção do funcionamento adequado.\n",
    "\n",
    "# Problema:\n",
    "# É necessário um sistema que permita monitorar o volume de esgoto em tempo real, detectar obstruções e tomar medidas corretivas automáticas para manter o fluxo adequado..\n",
    "\n",
    "# Descrição da Solução:\n",
    "# A solução proposta é um programa que permite ao usuário inserir os volumes de entrada e saída de água no sistema de esgoto. O programa calcula o volume atual do esgoto, verifica se há obstruções e, se necessário, abre um compartimento para permitir o fluxo normal. A solução utiliza widgets interativos para a entrada de dados e um botão para realizar o monitoramento.\n",
    "\n",
    "# Como a Solução Aborda o Problema:\n",
    "\n",
    "# Monitoramento em Tempo Real: O programa permite a entrada de volumes de água em tempo real e calcula o volume atual do esgoto.\n",
    "\n",
    "# Detecção de Obstruções: Verifica se há obstruções no sistema comparando os volumes de entrada e saída.\n",
    "\n",
    "# Ação Corretiva: Abre um compartimento automaticamente em caso de obstrução, permitindo o fluxo normal do esgoto.\n",
    "\n",
    "# Para isso, vereficamos se o volume de entrada era maior que a capacidade total, vereficamos se o volume de entrada é igual ao volume de saída e vereficamos se o volume de entrada é menor que o volume de saída. Também vereficamos se é ou não necessário abrir o compartimento que captará o lixo para ser recolhido futuramente. A função para capturar os dados do esgoto é com base no cálculo de seu volume, que nos permite realizar a conta.\n",
    "\n",
    "from ipywidgets import widgets, interact    # Importando o pacote\n",
    "from IPython.display import display\n",
    "\n",
    "# Função para atualizar o volume do esgoto\n",
    "def atualizar_volume(volume_atual, volume_entrada, volume_saida, capacidade_total):\n",
    "    if volume_entrada > capacidade_total:\n",
    "        print(\"O volume de entrada excede a capacidade do esgoto.\")\n",
    "        return volume_atual\n",
    "    novo_volume = volume_atual + (volume_entrada - volume_saida)\n",
    "    if volume_entrada == volume_saida:\n",
    "        print(\"O fluxo de água está normal.\")\n",
    "    return novo_volume\n",
    "\n",
    "# Função para verificar obstruções no esgoto\n",
    "def verificar_obstrucoes(volume_entrada, volume_saida):\n",
    "    if volume_entrada > volume_saida:\n",
    "        return True\n",
    "    return False\n",
    "\n",
    "# Função para abrir o compartimento em caso de obstrução\n",
    "def abrir_compartimento():\n",
    "    print(\"Abrindo compartimento para permitir o fluxo normal do esgoto.\")\n",
    "    return 0\n",
    "\n",
    "# Função para realizar o monitoramento do sistema de esgoto\n",
    "def realizar_monitoramento(b, volume_atual, capacidade_total):\n",
    "    volume_entrada = entrada_volume.value\n",
    "    volume_saida = saida_volume.value\n",
    "    novo_volume = atualizar_volume(volume_atual, volume_entrada, volume_saida, capacidade_total)\n",
    "    if verificar_obstrucoes(volume_entrada, volume_saida):\n",
    "        print(\"Obstrução detectada. Abrindo compartimento...\")\n",
    "        novo_volume = abrir_compartimento()\n",
    "    return novo_volume\n",
    "\n",
    "# Entrada de dados sobre o esgoto\n",
    "comprimento_esgoto = float(input(\"Qual é o comprimento do esgoto (em metros)? \"))\n",
    "largura_esgoto = float(input(\"Qual é a largura do esgoto (em metros)? \"))\n",
    "altura_esgoto = float(input(\"Qual é a altura do esgoto (em metros)? \"))\n",
    "\n",
    "volume_esgoto = comprimento_esgoto * largura_esgoto * altura_esgoto * 1000\n",
    "\n",
    "print(f\"O volume do esgoto é de {volume_esgoto} litros.\")\n",
    "\n",
    "volume_atual = 0\n",
    "\n",
    "# Função para criar o botão de monitoramento\n",
    "def criar_botao():\n",
    "    botao_monitoramento = widgets.Button(description=\"Realizar Monitoramento\")\n",
    "    botao_monitoramento.on_click(lambda b: realizar_monitoramento(b, volume_atual, volume_esgoto))\n",
    "    return botao_monitoramento\n",
    "\n",
    "# Entradas para os volumes de entrada e saída\n",
    "entrada_volume = widgets.FloatText(description='Volume Entrada:')\n",
    "saida_volume = widgets.FloatText(description='Volume Saída:')\n",
    "\n",
    "# Exibição dos widgets e botão\n",
    "display(entrada_volume, saida_volume, criar_botao())"
   ]
  }
 ],
 "metadata": {
  "kernelspec": {
   "display_name": "base",
   "language": "python",
   "name": "python3"
  },
  "language_info": {
   "codemirror_mode": {
    "name": "ipython",
    "version": 3
   },
   "file_extension": ".py",
   "mimetype": "text/x-python",
   "name": "python",
   "nbconvert_exporter": "python",
   "pygments_lexer": "ipython3",
   "version": "3.11.5"
  }
 },
 "nbformat": 4,
 "nbformat_minor": 2
}
